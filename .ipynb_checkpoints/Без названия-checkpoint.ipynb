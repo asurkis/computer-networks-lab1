{
 "cells": [
  {
   "cell_type": "code",
   "execution_count": 1,
   "id": "adjacent-firewall",
   "metadata": {},
   "outputs": [
    {
     "data": {
      "text/plain": [
       "{' ': 32,\n",
       " ',': 44,\n",
       " '.': 46,\n",
       " '0': 48,\n",
       " '1': 49,\n",
       " '2': 50,\n",
       " '3': 51,\n",
       " '4': 52,\n",
       " '5': 53,\n",
       " '6': 54,\n",
       " '7': 55,\n",
       " '8': 56,\n",
       " '9': 57,\n",
       " 'а': 224,\n",
       " 'б': 225,\n",
       " 'в': 226,\n",
       " 'г': 227,\n",
       " 'д': 228,\n",
       " 'е': 229,\n",
       " 'ж': 230,\n",
       " 'з': 231,\n",
       " 'и': 232,\n",
       " 'й': 233,\n",
       " 'к': 234,\n",
       " 'л': 235,\n",
       " 'м': 236,\n",
       " 'н': 237,\n",
       " 'о': 238,\n",
       " 'п': 239,\n",
       " 'р': 240,\n",
       " 'с': 241,\n",
       " 'т': 242,\n",
       " 'у': 243,\n",
       " 'ф': 244,\n",
       " 'х': 245,\n",
       " 'ц': 246,\n",
       " 'ч': 247,\n",
       " 'ш': 248,\n",
       " 'щ': 249,\n",
       " 'ъ': 250,\n",
       " 'ы': 251,\n",
       " 'ь': 252,\n",
       " 'э': 253,\n",
       " 'ю': 254,\n",
       " 'я': 255,\n",
       " 'А': 192,\n",
       " 'Б': 193,\n",
       " 'В': 194,\n",
       " 'Г': 195,\n",
       " 'Д': 196,\n",
       " 'Е': 197,\n",
       " 'Ж': 198,\n",
       " 'З': 199,\n",
       " 'И': 200,\n",
       " 'Й': 201,\n",
       " 'К': 202,\n",
       " 'Л': 203,\n",
       " 'М': 204,\n",
       " 'Н': 205,\n",
       " 'О': 206,\n",
       " 'П': 207,\n",
       " 'Р': 208,\n",
       " 'С': 209,\n",
       " 'Т': 210,\n",
       " 'У': 211,\n",
       " 'Ф': 212,\n",
       " 'Х': 213,\n",
       " 'Ц': 214,\n",
       " 'Ч': 215,\n",
       " 'Ш': 216,\n",
       " 'Щ': 217,\n",
       " 'Ъ': 218,\n",
       " 'Ы': 219,\n",
       " 'Ь': 220,\n",
       " 'Э': 221,\n",
       " 'Ю': 222,\n",
       " 'Я': 223}"
      ]
     },
     "execution_count": 1,
     "metadata": {},
     "output_type": "execute_result"
    }
   ],
   "source": [
    "codepage = {' ': 0x20, ',': 0x2C, '.': 0x2E}\n",
    "for i, c in enumerate('0123456789'):\n",
    "    codepage[c] = i + 0x30\n",
    "for i, c in enumerate('абвгдежзийклмнопрстуфхцчшщъыьэюя'):\n",
    "    codepage[c] = i + 0xE0\n",
    "for i, c in enumerate('АБВГДЕЖЗИЙКЛМНОПРСТУФХЦЧШЩЪЫЬЭЮЯ'):\n",
    "    codepage[c] = i + 0xC0\n",
    "codepage"
   ]
  },
  {
   "cell_type": "code",
   "execution_count": 2,
   "id": "weighted-texture",
   "metadata": {},
   "outputs": [
    {
     "name": "stdout",
     "output_type": "stream",
     "text": [
      "D1; F3; F0; EA; E8; F1; 20; C0; 2E; C8; 2E\n"
     ]
    }
   ],
   "source": [
    "message = 'Суркис А.И.'\n",
    "message_bytes = [codepage[c] for c in message]\n",
    "print('; '.join(['%X' % n for n in message_bytes]))"
   ]
  },
  {
   "cell_type": "code",
   "execution_count": 3,
   "id": "hundred-privilege",
   "metadata": {},
   "outputs": [
    {
     "name": "stdout",
     "output_type": "stream",
     "text": [
      "11010001; 11110011; 11110000; 11101010; 11101000; 11110001; 00100000; 11000000; 00101110; 11001000; 00101110\n"
     ]
    }
   ],
   "source": [
    "print('; '.join(['{0:08b}'.format(n) for n in message_bytes]))"
   ]
  },
  {
   "cell_type": "code",
   "execution_count": 4,
   "id": "false-tobacco",
   "metadata": {},
   "outputs": [
    {
     "name": "stdout",
     "output_type": "stream",
     "text": [
      "1101000111110011111100001110101011101000111100010010000011000000001011101100100000101110\n"
     ]
    }
   ],
   "source": [
    "print('{0:0{1}b}'.format(sum([c << (8 * i) for i, c in enumerate(reversed(message_bytes))]), 8 * len(message_bytes)))"
   ]
  },
  {
   "cell_type": "code",
   "execution_count": 5,
   "id": "polish-overhead",
   "metadata": {},
   "outputs": [
    {
     "data": {
      "text/plain": [
       "{'0000': '11110',\n",
       " '0001': '01001',\n",
       " '0010': '10100',\n",
       " '0011': '10101',\n",
       " '0100': '01010',\n",
       " '0101': '01011',\n",
       " '0110': '01110',\n",
       " '0111': '01111',\n",
       " '1000': '10010',\n",
       " '1001': '10011',\n",
       " '1010': '10110',\n",
       " '1011': '10111',\n",
       " '1100': '11010',\n",
       " '1101': '11011',\n",
       " '1110': '11100',\n",
       " '1111': '11101'}"
      ]
     },
     "execution_count": 5,
     "metadata": {},
     "output_type": "execute_result"
    }
   ],
   "source": [
    "table_45 = {\n",
    "    '{0:04b}'.format(i): '{0:05b}'.format(c) for i, c in enumerate([\n",
    "        0b_11110, 0b_01001, 0b_10100, 0b_10101,\n",
    "        0b_01010, 0b_01011, 0b_01110, 0b_01111,\n",
    "        0b_10010, 0b_10011, 0b_10110, 0b_10111,\n",
    "        0b_11010, 0b_11011, 0b_11100, 0b_11101,\n",
    "    ])\n",
    "}\n",
    "table_45"
   ]
  },
  {
   "cell_type": "code",
   "execution_count": 6,
   "id": "choice-place",
   "metadata": {},
   "outputs": [
    {
     "data": {
      "text/plain": [
       "'1101000111110011111100001110101011101000111100010010000011000000001011101100100000101110'"
      ]
     },
     "execution_count": 6,
     "metadata": {},
     "output_type": "execute_result"
    }
   ],
   "source": [
    "message_str = ''.join(['{0:08b}'.format(n) for n in message_bytes])\n",
    "message_str"
   ]
  },
  {
   "cell_type": "code",
   "execution_count": 7,
   "id": "nuclear-oklahoma",
   "metadata": {},
   "outputs": [],
   "source": [
    "# Для всего -- по 2 * n значений: начало и середина передачи бита\n",
    "\n",
    "def nrz(s):\n",
    "    result = []\n",
    "    for c in s:\n",
    "        result.append(int(c))\n",
    "        result.append(int(c))\n",
    "    return result\n",
    "\n",
    "def rz(s):\n",
    "    result = []\n",
    "    for c in s:\n",
    "        result.append(2 * int(c) - 1)\n",
    "        result.append(0)\n",
    "    return result\n",
    "\n",
    "def ami(s):\n",
    "    result = []\n",
    "    sign = 1\n",
    "    for c in s:\n",
    "        signal = 0\n",
    "        if c != '0':\n",
    "            signal = sign\n",
    "            sign = -sign\n",
    "        result.append(signal)\n",
    "        result.append(signal)\n",
    "    return result\n",
    "\n",
    "def nrzi(s):\n",
    "    result = []\n",
    "    sign = 1\n",
    "    for c in s:\n",
    "        if c != '0':\n",
    "            sign = -sign\n",
    "        result.append(sign)\n",
    "        result.append(sign)\n",
    "    return result\n",
    "\n",
    "def manchester(s):\n",
    "    result = []\n",
    "    for c in s:\n",
    "        sign = int(c)\n",
    "        result.append(sign)\n",
    "        result.append(1 - sign)\n",
    "    return result\n",
    "\n",
    "def manchester_diff(s):\n",
    "    result = []\n",
    "    sign = 0\n",
    "    result.append(sign)\n",
    "    result.append(sign)\n",
    "    for c in s:\n",
    "        if c == '0':\n",
    "            sign = 1 - sign\n",
    "        result.append(sign)\n",
    "        sign = 1 - sign\n",
    "        result.append(sign)\n",
    "    result.append(sign)\n",
    "    result.append(sign)\n",
    "    return result\n",
    "\n",
    "def mlt3(s):\n",
    "    result = []\n",
    "    signal = 0\n",
    "    for c in s:\n",
    "        if c != '0':\n",
    "            signal = (signal + 1) % 3\n",
    "        result.append(signal)\n",
    "        result.append(signal)\n",
    "    return result\n",
    "\n",
    "def pam5(s):\n",
    "    result = []\n",
    "    for i in range(0, len(s), 2):\n",
    "        t = { '00': 0, '01': 1, '10': 3, '11': 4 }[s[i:i + 2]]\n",
    "        result.append(t)\n",
    "        result.append(t)\n",
    "    return result\n"
   ]
  },
  {
   "cell_type": "code",
   "execution_count": 8,
   "id": "virgin-quebec",
   "metadata": {},
   "outputs": [],
   "source": [
    "def repeats(s):\n",
    "    result = [1]\n",
    "    for c1, c2 in zip(s[:-1], s[1:]):\n",
    "        if c1 == c2:\n",
    "            result[-1] += 1\n",
    "        else:\n",
    "            result.append(1)\n",
    "    return result"
   ]
  },
  {
   "cell_type": "code",
   "execution_count": 9,
   "id": "binary-drink",
   "metadata": {},
   "outputs": [],
   "source": [
    "def periods(s):\n",
    "    result = []\n",
    "    \n",
    "    i = 0\n",
    "    while i < len(s):\n",
    "        j = i + 1\n",
    "        while j < len(s) and s[j] == s[i]:\n",
    "            j += 1\n",
    "        inext = j\n",
    "        while j < len(s) and s[j] != s[j]:\n",
    "            j += 1\n",
    "        i, t = inext, j - i\n",
    "        for _ in range(t):\n",
    "            result.append(t)\n",
    "    \n",
    "    return result"
   ]
  },
  {
   "cell_type": "code",
   "execution_count": 10,
   "id": "persistent-wichita",
   "metadata": {},
   "outputs": [],
   "source": [
    "def print_method_results(name, m, f0, s):\n",
    "    y0 = m(s)\n",
    "    n = len(y0)\n",
    "    \n",
    "    r = repeats(y0 + [y0[-1]])\n",
    "    tmin = min(r)\n",
    "    tmax = max(r)\n",
    "    \n",
    "    x = np.empty(2 * n + 1)\n",
    "    y = np.empty(2 * n + 1)\n",
    "    x[::2] = 0.5 * np.arange(n + 1)\n",
    "    x[1::2] = x[2::2]\n",
    "    y[:-1:2] = y[1::2] = np.array(y0)\n",
    "    y[-1] = y[-2]\n",
    "    print(name, tmin, tmax, '=>', f0 / tmin, '-', f0 / tmax, '=', f0 * (7 / tmin - 1 / tmax), '; average:', f0 * len(r) / sum(r))\n",
    "    plt.figure(figsize=(12, 4))\n",
    "    plt.plot(x[:129], y[:129])\n",
    "    plt.xticks(np.arange(33))\n",
    "    plt.yticks(np.arange(min(y), max(y) + 1))\n",
    "    plt.show()"
   ]
  },
  {
   "cell_type": "code",
   "execution_count": 11,
   "id": "incorporated-monthly",
   "metadata": {},
   "outputs": [
    {
     "name": "stdout",
     "output_type": "stream",
     "text": [
      "nrz 2 16 => 500.0 - 62.5 = 3437.5 ; average: 214.68926553672316\n"
     ]
    },
    {
     "data": {
      "image/png": "[encoded data removed]",
      "text/plain": [
       "<Figure size 864x288 with 1 Axes>"
      ]
     },
     "metadata": {
      "needs_background": "light"
     },
     "output_type": "display_data"
    },
    {
     "name": "stdout",
     "output_type": "stream",
     "text": [
      "rz 1 2 => 1000.0 - 500.0 = 6500.0 ; average: 994.3502824858757\n"
     ]
    },
    {
     "data": {
      "image/png": "[encoded data removed]",
      "text/plain": [
       "<Figure size 864x288 with 1 Axes>"
      ]
     },
     "metadata": {
      "needs_background": "light"
     },
     "output_type": "display_data"
    },
    {
     "name": "stdout",
     "output_type": "stream",
     "text": [
      "ami 2 16 => 500.0 - 62.5 = 3437.5 ; average: 344.6327683615819\n"
     ]
    },
    {
     "data": {
      "image/png": "[encoded data removed]",
      "text/plain": [
       "<Figure size 864x288 with 1 Axes>"
      ]
     },
     "metadata": {
      "needs_background": "light"
     },
     "output_type": "display_data"
    },
    {
     "name": "stdout",
     "output_type": "stream",
     "text": [
      "nrzi 2 18 => 500.0 - 55.55555555555556 = 3444.444444444445 ; average: 237.28813559322035\n"
     ]
    },
    {
     "data": {
      "image/png": "[encoded data removed]",
      "text/plain": [
       "<Figure size 864x288 with 1 Axes>"
      ]
     },
     "metadata": {
      "needs_background": "light"
     },
     "output_type": "display_data"
    },
    {
     "name": "stdout",
     "output_type": "stream",
     "text": [
      "manchester 1 2 => 1000.0 - 500.0 = 6500.0 ; average: 785.3107344632768\n"
     ]
    },
    {
     "data": {
      "image/png": "[encoded data removed]",
      "text/plain": [
       "<Figure size 864x288 with 1 Axes>"
      ]
     },
     "metadata": {
      "needs_background": "light"
     },
     "output_type": "display_data"
    },
    {
     "name": "stdout",
     "output_type": "stream",
     "text": [
      "manchester_diff 1 4 => 1000.0 - 250.0 = 6750.0 ; average: 745.8563535911602\n"
     ]
    },
    {
     "data": {
      "image/png": "[encoded data removed]",
      "text/plain": [
       "<Figure size 864x288 with 1 Axes>"
      ]
     },
     "metadata": {
      "needs_background": "light"
     },
     "output_type": "display_data"
    },
    {
     "name": "stdout",
     "output_type": "stream",
     "text": [
      "mlt3 2 18 => 500.0 - 55.55555555555556 = 3444.444444444445 ; average: 237.28813559322035\n"
     ]
    },
    {
     "data": {
      "image/png": "[encoded data removed]",
      "text/plain": [
       "<Figure size 864x288 with 1 Axes>"
      ]
     },
     "metadata": {
      "needs_background": "light"
     },
     "output_type": "display_data"
    },
    {
     "name": "stdout",
     "output_type": "stream",
     "text": [
      "pam5 2 8 => 500.0 - 125.0 = 3375.0 ; average: 348.314606741573\n"
     ]
    },
    {
     "data": {
      "image/png": "[encoded data removed]",
      "text/plain": [
       "<Figure size 864x288 with 1 Axes>"
      ]
     },
     "metadata": {
      "needs_background": "light"
     },
     "output_type": "display_data"
    }
   ],
   "source": [
    "import matplotlib.pyplot as plt\n",
    "import numpy as np\n",
    "\n",
    "methods = {\n",
    "    'nrz': nrz,\n",
    "    'rz': rz,\n",
    "    'ami': ami,\n",
    "    'nrzi': nrzi,\n",
    "    'manchester': manchester,\n",
    "    'manchester_diff': manchester_diff,\n",
    "    'mlt3': mlt3,\n",
    "    'pam5': pam5\n",
    "}\n",
    "\n",
    "for name in methods:\n",
    "    print_method_results(name, methods[name], 1000, message_str)"
   ]
  },
  {
   "cell_type": "code",
   "execution_count": 12,
   "id": "raised-annex",
   "metadata": {},
   "outputs": [
    {
     "data": {
      "text/plain": [
       "'11011010011110110101111011111011100101101110010010111010100110100111101101011110101001110011010100101010011100'"
      ]
     },
     "execution_count": 12,
     "metadata": {},
     "output_type": "execute_result"
    }
   ],
   "source": [
    "coded_str = ''.join([table_45[message_str[i:i + 4]] for i in range(0, len(message_str), 4)])\n",
    "coded_str"
   ]
  },
  {
   "cell_type": "code",
   "execution_count": 23,
   "id": "prerequisite-correspondence",
   "metadata": {},
   "outputs": [
    {
     "data": {
      "text/plain": [
       "'D A 7 B 5 E F B 9 6 E 4 B A 9 A 7 B 5 E A 7 3 5 2 A 7 0'"
      ]
     },
     "execution_count": 23,
     "metadata": {},
     "output_type": "execute_result"
    }
   ],
   "source": [
    "' '.join(['{0:X}'.format(int(coded_str[i:i + 4], 2)) for i in range(0, len(coded_str), 4)])"
   ]
  },
  {
   "cell_type": "code",
   "execution_count": 28,
   "id": "nervous-keyboard",
   "metadata": {},
   "outputs": [
    {
     "data": {
      "text/plain": [
       "13.75"
      ]
     },
     "execution_count": 28,
     "metadata": {},
     "output_type": "execute_result"
    }
   ],
   "source": [
    "len(coded_str) / 8"
   ]
  },
  {
   "cell_type": "code",
   "execution_count": 13,
   "id": "emotional-qualification",
   "metadata": {},
   "outputs": [
    {
     "name": "stdout",
     "output_type": "stream",
     "text": [
      "nrz 2 10 => 500.0 - 100.0 = 3400.0 ; average: 298.6425339366516\n"
     ]
    },
    {
     "data": {
      "image/png": "[encoded data removed]",
      "text/plain": [
       "<Figure size 864x288 with 1 Axes>"
      ]
     },
     "metadata": {
      "needs_background": "light"
     },
     "output_type": "display_data"
    },
    {
     "name": "stdout",
     "output_type": "stream",
     "text": [
      "rz 1 2 => 1000.0 - 500.0 = 6500.0 ; average: 995.4751131221719\n"
     ]
    },
    {
     "data": {
      "image/png": "[encoded data removed]",
      "text/plain": [
       "<Figure size 864x288 with 1 Axes>"
      ]
     },
     "metadata": {
      "needs_background": "light"
     },
     "output_type": "display_data"
    },
    {
     "name": "stdout",
     "output_type": "stream",
     "text": [
      "ami 2 5 => 500.0 - 200.0 = 3300.0 ; average: 447.96380090497735\n"
     ]
    },
    {
     "data": {
      "image/png": "[encoded data removed]",
      "text/plain": [
       "<Figure size 864x288 with 1 Axes>"
      ]
     },
     "metadata": {
      "needs_background": "light"
     },
     "output_type": "display_data"
    },
    {
     "name": "stdout",
     "output_type": "stream",
     "text": [
      "nrzi 2 7 => 500.0 - 142.85714285714286 = 3357.1428571428573 ; average: 298.6425339366516\n"
     ]
    },
    {
     "data": {
      "image/png": "[encoded data removed]",
      "text/plain": [
       "<Figure size 864x288 with 1 Axes>"
      ]
     },
     "metadata": {
      "needs_background": "light"
     },
     "output_type": "display_data"
    },
    {
     "name": "stdout",
     "output_type": "stream",
     "text": [
      "manchester 1 2 => 1000.0 - 500.0 = 6500.0 ; average: 701.3574660633484\n"
     ]
    },
    {
     "data": {
      "image/png": "[encoded data removed]",
      "text/plain": [
       "<Figure size 864x288 with 1 Axes>"
      ]
     },
     "metadata": {
      "needs_background": "light"
     },
     "output_type": "display_data"
    },
    {
     "name": "stdout",
     "output_type": "stream",
     "text": [
      "manchester_diff 1 4 => 1000.0 - 250.0 = 6750.0 ; average: 688.8888888888889\n"
     ]
    },
    {
     "data": {
      "image/png": "[encoded data removed]",
      "text/plain": [
       "<Figure size 864x288 with 1 Axes>"
      ]
     },
     "metadata": {
      "needs_background": "light"
     },
     "output_type": "display_data"
    },
    {
     "name": "stdout",
     "output_type": "stream",
     "text": [
      "mlt3 2 7 => 500.0 - 142.85714285714286 = 3357.1428571428573 ; average: 298.6425339366516\n"
     ]
    },
    {
     "data": {
      "image/png": "[encoded data removed]",
      "text/plain": [
       "<Figure size 864x288 with 1 Axes>"
      ]
     },
     "metadata": {
      "needs_background": "light"
     },
     "output_type": "display_data"
    },
    {
     "name": "stdout",
     "output_type": "stream",
     "text": [
      "pam5 2 6 => 500.0 - 166.66666666666666 = 3333.3333333333335 ; average: 378.3783783783784\n"
     ]
    },
    {
     "data": {
      "image/png": "[encoded data removed]",
      "text/plain": [
       "<Figure size 864x288 with 1 Axes>"
      ]
     },
     "metadata": {
      "needs_background": "light"
     },
     "output_type": "display_data"
    }
   ],
   "source": [
    "for name in methods:\n",
    "    print_method_results(name, methods[name], 1000, coded_str)"
   ]
  },
  {
   "cell_type": "code",
   "execution_count": 35,
   "id": "together-robertson",
   "metadata": {},
   "outputs": [
    {
     "data": {
      "text/plain": [
       "('1100111001001000101000011101111111101010111110011101010011111000111101111000010010011001',\n",
       " 8)"
      ]
     },
     "execution_count": 35,
     "metadata": {},
     "output_type": "execute_result"
    }
   ],
   "source": [
    "scrambled_str = [0] * 7\n",
    "for c in message_str:\n",
    "    a = int(c)\n",
    "    b1 = scrambled_str[-3]\n",
    "    b2 = scrambled_str[-5]\n",
    "    scrambled_str.append(a ^ b1 ^ b2)\n",
    "scrambled_str = ''.join([str(b) for b in scrambled_str[7:]])\n",
    "scrambled_str, max(repeats(scrambled_str))"
   ]
  },
  {
   "cell_type": "code",
   "execution_count": 15,
   "id": "cross-tractor",
   "metadata": {},
   "outputs": [
    {
     "name": "stdout",
     "output_type": "stream",
     "text": [
      "nrz 2 16 => 500.0 - 62.5 = 3437.5 ; average: 231.63841807909606\n"
     ]
    },
    {
     "data": {
      "image/png": "[encoded data removed]",
      "text/plain": [
       "<Figure size 864x288 with 1 Axes>"
      ]
     },
     "metadata": {
      "needs_background": "light"
     },
     "output_type": "display_data"
    },
    {
     "name": "stdout",
     "output_type": "stream",
     "text": [
      "rz 1 2 => 1000.0 - 500.0 = 6500.0 ; average: 994.3502824858757\n"
     ]
    },
    {
     "data": {
      "image/png": "[encoded data removed]",
      "text/plain": [
       "<Figure size 864x288 with 1 Axes>"
      ]
     },
     "metadata": {
      "needs_background": "light"
     },
     "output_type": "display_data"
    },
    {
     "name": "stdout",
     "output_type": "stream",
     "text": [
      "ami 2 8 => 500.0 - 125.0 = 3375.0 ; average: 395.48022598870057\n"
     ]
    },
    {
     "data": {
      "image/png": "[encoded data removed]",
      "text/plain": [
       "<Figure size 864x288 with 1 Axes>"
      ]
     },
     "metadata": {
      "needs_background": "light"
     },
     "output_type": "display_data"
    },
    {
     "name": "stdout",
     "output_type": "stream",
     "text": [
      "nrzi 2 10 => 500.0 - 100.0 = 3400.0 ; average: 282.4858757062147\n"
     ]
    },
    {
     "data": {
      "image/png": "[encoded data removed]",
      "text/plain": [
       "<Figure size 864x288 with 1 Axes>"
      ]
     },
     "metadata": {
      "needs_background": "light"
     },
     "output_type": "display_data"
    },
    {
     "name": "stdout",
     "output_type": "stream",
     "text": [
      "manchester 1 2 => 1000.0 - 500.0 = 6500.0 ; average: 768.361581920904\n"
     ]
    },
    {
     "data": {
      "image/png": "[encoded data removed]",
      "text/plain": [
       "<Figure size 864x288 with 1 Axes>"
      ]
     },
     "metadata": {
      "needs_background": "light"
     },
     "output_type": "display_data"
    },
    {
     "name": "stdout",
     "output_type": "stream",
     "text": [
      "manchester_diff 1 4 => 1000.0 - 250.0 = 6750.0 ; average: 701.6574585635359\n"
     ]
    },
    {
     "data": {
      "image/png": "[encoded data removed]",
      "text/plain": [
       "<Figure size 864x288 with 1 Axes>"
      ]
     },
     "metadata": {
      "needs_background": "light"
     },
     "output_type": "display_data"
    },
    {
     "name": "stdout",
     "output_type": "stream",
     "text": [
      "mlt3 2 10 => 500.0 - 100.0 = 3400.0 ; average: 282.4858757062147\n"
     ]
    },
    {
     "data": {
      "image/png": "[encoded data removed]",
      "text/plain": [
       "<Figure size 864x288 with 1 Axes>"
      ]
     },
     "metadata": {
      "needs_background": "light"
     },
     "output_type": "display_data"
    },
    {
     "name": "stdout",
     "output_type": "stream",
     "text": [
      "pam5 2 6 => 500.0 - 166.66666666666666 = 3333.3333333333335 ; average: 393.2584269662921\n"
     ]
    },
    {
     "data": {
      "image/png": "[encoded data removed]",
      "text/plain": [
       "<Figure size 864x288 with 1 Axes>"
      ]
     },
     "metadata": {
      "needs_background": "light"
     },
     "output_type": "display_data"
    }
   ],
   "source": [
    "for name in methods:\n",
    "    print_method_results(name, methods[name], 1000, scrambled_str)"
   ]
  }
 ],
 "metadata": {
  "kernelspec": {
   "display_name": "Python 3",
   "language": "python",
   "name": "python3"
  },
  "language_info": {
   "codemirror_mode": {
    "name": "ipython",
    "version": 3
   },
   "file_extension": ".py",
   "mimetype": "text/x-python",
   "name": "python",
   "nbconvert_exporter": "python",
   "pygments_lexer": "ipython3",
   "version": "3.9.1"
  }
 },
 "nbformat": 4,
 "nbformat_minor": 5
}
